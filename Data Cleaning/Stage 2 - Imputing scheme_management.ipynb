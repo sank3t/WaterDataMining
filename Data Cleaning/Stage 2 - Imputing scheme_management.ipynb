{
 "cells": [
  {
   "cell_type": "markdown",
   "metadata": {},
   "source": [
    "### Contents\n",
    "\n",
    "1. [Importing the libraries](#1.-Importing-the-libraries)\n",
    "1. [Reading the dataset having no ambiguous columns](#2.-Reading-the-dataset-having-no-ambiguous-columns)\n",
    "1. [Columns having missing values](#3.-Columns-having-missing-values)\n",
    "1. [Imputing scheme management](#4.-Imputing-scheme-management)"
   ]
  },
  {
   "cell_type": "markdown",
   "metadata": {},
   "source": [
    "## 1. Importing the libraries"
   ]
  },
  {
   "cell_type": "code",
   "execution_count": 1,
   "metadata": {},
   "outputs": [],
   "source": [
    "from glob import glob\n",
    "import pandas as pd"
   ]
  },
  {
   "cell_type": "markdown",
   "metadata": {},
   "source": [
    "## 2. Reading the dataset having no ambiguous columns"
   ]
  },
  {
   "cell_type": "code",
   "execution_count": 2,
   "metadata": {},
   "outputs": [
    {
     "data": {
      "text/plain": [
       "['../data/v1/train_cleaned.csv', '../data/v1/test_cleaned.csv']"
      ]
     },
     "execution_count": 2,
     "metadata": {},
     "output_type": "execute_result"
    }
   ],
   "source": [
    "files = glob('../data/v1/*.csv')\n",
    "\n",
    "files"
   ]
  },
  {
   "cell_type": "code",
   "execution_count": 3,
   "metadata": {},
   "outputs": [],
   "source": [
    "# Reading train and test data\n",
    "df_train = pd.read_csv(files[0])\n",
    "df_test = pd.read_csv(files[-1])"
   ]
  },
  {
   "cell_type": "markdown",
   "metadata": {},
   "source": [
    "## 3. Columns having missing values"
   ]
  },
  {
   "cell_type": "code",
   "execution_count": 4,
   "metadata": {},
   "outputs": [
    {
     "data": {
      "text/plain": [
       "['funder',\n",
       " 'installer',\n",
       " 'subvillage',\n",
       " 'public_meeting',\n",
       " 'scheme_management',\n",
       " 'scheme_name',\n",
       " 'permit']"
      ]
     },
     "execution_count": 4,
     "metadata": {},
     "output_type": "execute_result"
    }
   ],
   "source": [
    "df_train.columns[df_train.isnull().sum() > 0].tolist()"
   ]
  },
  {
   "cell_type": "code",
   "execution_count": 5,
   "metadata": {},
   "outputs": [
    {
     "data": {
      "text/plain": [
       "array(['VWC', 'Other', nan, 'Private operator', 'WUG', 'Water Board',\n",
       "       'WUA', 'Water authority', 'Company', 'Parastatal', 'Trust', 'SWC',\n",
       "       'None'], dtype=object)"
      ]
     },
     "execution_count": 5,
     "metadata": {},
     "output_type": "execute_result"
    }
   ],
   "source": [
    "df_train.scheme_management.unique()"
   ]
  },
  {
   "cell_type": "markdown",
   "metadata": {},
   "source": [
    "## 4. Imputing scheme management"
   ]
  },
  {
   "cell_type": "markdown",
   "metadata": {},
   "source": [
    "#### After doing research for the values in `scheme_management` the following things have been observed:\n",
    "* WUG and WUA are all same\n",
    "* Water Authority and Water Board\n",
    "* Trust and SWC are non-profit based, VWC\n",
    "* Parastatal, Private operator and Company\n",
    "\n",
    "#### Replacing will be done in the following way:\n",
    "* WUA -> WUG\n",
    "* VWC, SWC -> Trust\n",
    "* Water authority -> Water Board\n",
    "* Private Operator, Parastatal -> Company"
   ]
  },
  {
   "cell_type": "code",
   "execution_count": 6,
   "metadata": {},
   "outputs": [],
   "source": [
    "temp_df = df_train.copy()"
   ]
  },
  {
   "cell_type": "code",
   "execution_count": 7,
   "metadata": {},
   "outputs": [
    {
     "data": {
      "text/plain": [
       "VWC                 36793\n",
       "WUG                  5206\n",
       "NaN                  3877\n",
       "Water authority      3153\n",
       "WUA                  2883\n",
       "Water Board          2748\n",
       "Parastatal           1680\n",
       "Private operator     1063\n",
       "Company              1061\n",
       "Other                 766\n",
       "SWC                    97\n",
       "Trust                  72\n",
       "None                    1\n",
       "Name: scheme_management, dtype: int64"
      ]
     },
     "execution_count": 7,
     "metadata": {},
     "output_type": "execute_result"
    }
   ],
   "source": [
    "temp_df.scheme_management.value_counts(dropna=False)"
   ]
  },
  {
   "cell_type": "code",
   "execution_count": 8,
   "metadata": {},
   "outputs": [],
   "source": [
    "# temp_df['scheme_management'] = temp_df.scheme_management.str.replace('WUA', 'WUG')\n",
    "# temp_df['scheme_management'] = temp_df.scheme_management.str.replace('VWC', 'Trust')\n",
    "# temp_df['scheme_management'] = temp_df.scheme_management.str.replace('SWC', 'Trust')\n",
    "# temp_df['scheme_management'] = temp_df.scheme_management.str.replace('Water authority', 'Water Board')\n",
    "# temp_df['scheme_management'] = temp_df.scheme_management.str.replace('Parastatal', 'Water Board')\n",
    "# temp_df['scheme_management'] = temp_df.scheme_management.str.replace('Private operator', 'Company')"
   ]
  },
  {
   "cell_type": "code",
   "execution_count": 9,
   "metadata": {},
   "outputs": [
    {
     "data": {
      "text/html": [
       "<div>\n",
       "<style scoped>\n",
       "    .dataframe tbody tr th:only-of-type {\n",
       "        vertical-align: middle;\n",
       "    }\n",
       "\n",
       "    .dataframe tbody tr th {\n",
       "        vertical-align: top;\n",
       "    }\n",
       "\n",
       "    .dataframe thead th {\n",
       "        text-align: right;\n",
       "    }\n",
       "</style>\n",
       "<table border=\"1\" class=\"dataframe\">\n",
       "  <thead>\n",
       "    <tr style=\"text-align: right;\">\n",
       "      <th></th>\n",
       "      <th>index</th>\n",
       "      <th>scheme_name</th>\n",
       "    </tr>\n",
       "  </thead>\n",
       "  <tbody>\n",
       "    <tr>\n",
       "      <th>0</th>\n",
       "      <td>Lake Victoria pipe scheme</td>\n",
       "      <td>19</td>\n",
       "    </tr>\n",
       "    <tr>\n",
       "      <th>1</th>\n",
       "      <td>Ng'au</td>\n",
       "      <td>18</td>\n",
       "    </tr>\n",
       "    <tr>\n",
       "      <th>2</th>\n",
       "      <td>B</td>\n",
       "      <td>16</td>\n",
       "    </tr>\n",
       "    <tr>\n",
       "      <th>3</th>\n",
       "      <td>Segese pipe scheme</td>\n",
       "      <td>15</td>\n",
       "    </tr>\n",
       "    <tr>\n",
       "      <th>4</th>\n",
       "      <td>Migoli</td>\n",
       "      <td>14</td>\n",
       "    </tr>\n",
       "    <tr>\n",
       "      <th>...</th>\n",
       "      <td>...</td>\n",
       "      <td>...</td>\n",
       "    </tr>\n",
       "    <tr>\n",
       "      <th>119</th>\n",
       "      <td>ENDAMASAK</td>\n",
       "      <td>1</td>\n",
       "    </tr>\n",
       "    <tr>\n",
       "      <th>120</th>\n",
       "      <td>Mshiri pipeline</td>\n",
       "      <td>1</td>\n",
       "    </tr>\n",
       "    <tr>\n",
       "      <th>121</th>\n",
       "      <td>Nyamatoke piped scheme</td>\n",
       "      <td>1</td>\n",
       "    </tr>\n",
       "    <tr>\n",
       "      <th>122</th>\n",
       "      <td>Bukirilo gravity water supply</td>\n",
       "      <td>1</td>\n",
       "    </tr>\n",
       "    <tr>\n",
       "      <th>123</th>\n",
       "      <td>Hesawa</td>\n",
       "      <td>1</td>\n",
       "    </tr>\n",
       "  </tbody>\n",
       "</table>\n",
       "<p>124 rows × 2 columns</p>\n",
       "</div>"
      ],
      "text/plain": [
       "                             index  scheme_name\n",
       "0        Lake Victoria pipe scheme           19\n",
       "1                            Ng'au           18\n",
       "2                                B           16\n",
       "3               Segese pipe scheme           15\n",
       "4                           Migoli           14\n",
       "..                             ...          ...\n",
       "119                      ENDAMASAK            1\n",
       "120                Mshiri pipeline            1\n",
       "121         Nyamatoke piped scheme            1\n",
       "122  Bukirilo gravity water supply            1\n",
       "123                         Hesawa            1\n",
       "\n",
       "[124 rows x 2 columns]"
      ]
     },
     "execution_count": 9,
     "metadata": {},
     "output_type": "execute_result"
    }
   ],
   "source": [
    "y = temp_df.loc[(temp_df.scheme_management.isna()), \n",
    "                ['scheme_management', 'scheme_name']]['scheme_name'].value_counts().reset_index()\n",
    "\n",
    "y"
   ]
  },
  {
   "cell_type": "code",
   "execution_count": 10,
   "metadata": {},
   "outputs": [
    {
     "data": {
      "text/plain": [
       "array([19, 18, 16, 15, 14, 13,  9,  8,  6,  5,  4,  3,  2,  1])"
      ]
     },
     "execution_count": 10,
     "metadata": {},
     "output_type": "execute_result"
    }
   ],
   "source": [
    "y['scheme_name'].unique()"
   ]
  },
  {
   "cell_type": "code",
   "execution_count": 11,
   "metadata": {},
   "outputs": [
    {
     "name": "stdout",
     "output_type": "stream",
     "text": [
      "Lang'ata dapash water proj\n",
      "Malinyi\n",
      "ENDANANG'WENI SPRING\n",
      "Lituli\n",
      "Njomlole water gravity scheme\n",
      "Msaginya\n",
      "Utaruni pipeline\n",
      "Ikela Wa\n",
      "Shaba water supply\n",
      "Saseni\n",
      "QWICKWIN\n",
      "Nzul\n",
      "Huru mawela water project\n",
      "Mshewa Water Supply\n",
      "Ziwani water supply\n",
      "Kamwanga Erikaswa water pr\n",
      "Ihowanja\n",
      "Sikonge water supply\n",
      "Sukuro pipe scheme\n",
      "MVUM\n",
      "World Bank Water Supply\n",
      "DANIDA\n",
      "Kilimahewa water supply\n",
      "Manyoni water supply\n",
      "Gwata water supply\n",
      "Mavimba\n",
      "Nyachenda water scheme\n",
      "Machumba estate pipe line\n",
      "Mangola pipe scheme\n",
      "Hgodin\n",
      "Mnyuzi water supplly\n",
      "Namaukula water supply\n",
      "Kimokouwa water project\n",
      "Mradi wa maji Kisumwa\n",
      "Nyangoto water suplly\n",
      "Maswa water supply program\n",
      "Jumuhiya ya watumia maji\n",
      "Nduruma pipe line\n",
      "Vyama vya watumia maji\n",
      "Mwaya Mn\n",
      "Shongololo gravity water supply\n",
      "Vumamti\n",
      "Kirua kahe gravity water supply trust\n",
      "Dasp\n",
      "Makwale water supplied sche\n",
      "Ilala water supply\n",
      "Nguruma gravity water supply\n",
      "Ilindi\n",
      "Mwadui piped scheme\n",
      "Mitema\n",
      "Namanga water project\n",
      "Masanwa Piped water Scheme\n",
      "Kazilankanda Water Supply\n",
      "MWS\n",
      "Tangini\n",
      "Rural water supply\n",
      "Kaisho/Isingiro w\n",
      "Adra\n",
      "Muhalala water supply\n",
      "Ruhatwe water supply\n",
      "Mwigumbi piped scheme\n",
      "Kyamakata Pumping water supply\n",
      "Kinyinya gravity water supply\n",
      "NCHULOWAIBALE WATER SUPPLY SCHEME\n",
      "Kabare gravity water supply mission\n",
      "Nabaiye pipe line\n",
      "Madimba water supply\n",
      "Elang'atadapash water proj\n",
      "Churazo gravity water supply\n",
      "Mtama water supply\n",
      "Dihimba water supply\n",
      "Mbwinji\n",
      "Msitu wa tembo pipe scheme\n",
      "Mwigimbi piped scheme\n",
      "Nyabibuye\n",
      "Nasula gravity water supply\n",
      "Tank refu Mtakuja\n",
      "Mradi wa maji wa maji sikonge\n",
      "Nyangao Water Supply\n",
      "ENDAMASAK\n",
      "Mshiri pipeline\n",
      "Nyamatoke piped scheme\n",
      "Bukirilo gravity water supply\n",
      "Hesawa\n"
     ]
    }
   ],
   "source": [
    "for i in y.loc[y['scheme_name'] == 1, 'index']:\n",
    "    print(i)"
   ]
  },
  {
   "cell_type": "markdown",
   "metadata": {},
   "source": [
    "|   scheme_name  |   scheme_management | missing_value_count |\n",
    "|---------------:|--------------------:|--------------------:|\n",
    "| Migoli         |         VWC         |         14           |\n",
    "| Kazilankanda Water Supply | VWC | 1 |\n",
    "| Huru mawela water project | Water Board | 1 |\n",
    "| World Bank Water Supply | Trust| 1 |\n",
    "| Kimokouwa water project| VWC | 1 |\n",
    "| Makwale water supplied sche | VWC| 1 |\n",
    "| Njomlole water gravity scheme | VWC| 1 |\n",
    "| Nyangoto water suplly | VWC| 1 |\n",
    "| Utaruni pipeline | VWC| 1 |\n",
    "| Namaukula water supply | VWC| 1 |\n",
    "| Madimba water supply | Other| 1 |\n",
    "| Elang'atadapash water proj | VWC | 1 |\n",
    "| Mavimba | - | 1 |\n",
    "| ENDANANG'WENI SPRING | - | 1|\n",
    "| Nyamatoke piped scheme | WUA | 1 |\n",
    "| Masanwa Piped water Scheme | VWC | 1 |\n",
    "| Ruhatwe water supply | WUG | 1 |\n",
    "| Kilimahewa water supply | VWC | 1 |\n",
    "| Mwaya Mn | WUA | 1 |\n",
    "| Mshewa Water Supply | VWC | 1 |\n",
    "| Shaba water supply | VWC | 1 |\n",
    "| Hgodin | Other | 1 |\n",
    "| MVUM | VWC | 1 |\n",
    "| Nasula gravity water supply | - | 1 |\n",
    "| Kirua kahe gravity water supply trust | Water Board | 1 |\n",
    "| Nguruma gravity water supply | VWC | 1 |\n",
    "| Kinyinya gravity water supply | VWC | 1 |\n",
    "| Mangola pipe scheme | - | 1 |\n",
    "| Maswa water supply program | Water authority | 1 |\n",
    "| Namanga water project | VWC/Parastatal | 1 |\n",
    "| Ziwani water supply | VWC | 1 |\n",
    "| Saseni | Water authority | 1 |\n",
    "| Lang'ata dapash water proj | VWC | 1 |\n",
    "| NCHULOWAIBALE WATER SUPPLY SCHEME | VWC | 1 |\n",
    "| Ihowanja | VWC | 1 |\n",
    "| Muhalala water supply | VWC/Water Authority | 1 |\n",
    "| Malinyi | VWC | 1 |\n",
    "| Bukirilo gravity water supply | VWC | 1 |\n",
    "| Mwigumbi piped scheme | WUA | 1 |\n",
    "| Mtama water supply | VWC | 1 |\n",
    "| Kyamakata Pumping water supply | VWC | 1 |\n",
    "| Churazo gravity water supply | VWC | 1 |\n",
    "| Machumba estate pipe line | VWC | 1 |\n",
    "| Rural water supply | VWC | 1 |\n",
    "| Mshiri pipeline | Other | 1 |\n",
    "| Mwadui piped scheme | WUA/Parastatal | 1 |\n",
    "| Ilindi | VWC | 1 |\n",
    "| Nduruma pipe line | VWC/Parastatal | 1 |\n",
    "| Sukuro pipe scheme | Other | 1 |\n",
    "| Nyabibuye | VWC | 1 |\n",
    "| Mbwinji | VWC | 1 |\n",
    "| Mnyuzi water supplly | VWC | 1 |\n",
    "| DANIDA | VWC | 1 | \n",
    "| Mwigimbi piped scheme | WUA | 1 |\n",
    "| Nyachenda water scheme | Water authority | 1 | \n",
    "| Kaisho/Isingiro w | VWC/Other | 1 | \n",
    "| Kabare gravity water supply mission | VWC | 1 |\n",
    "| Tank refu Mtakuja | Water authority | 1 |\n",
    "| Hesawa | - | 1 |\n",
    "| Kamwanga Erikaswa water pr | VWC | 1 |\n",
    "| Mradi wa maji Kisumwa | VWC | 1 |\n",
    "| Shongololo gravity water supply | VWC/WUA | 1 |\n",
    "| QWICKWIN | WUG/Other | 1 |\n",
    "| Mradi wa maji wa maji sikonge | Other | 1 |\n",
    "| Dasp | - | 1 |\n",
    "| Nabaiye pipe line | VWC | 1 |\n",
    "| Adra | VWC | 1 |\n",
    "| MWS | VWC | 1 | \n",
    "| Mitema\n",
    "| Msaginya\n",
    "| Ikela Wa\n",
    "| Sikonge water supply\n",
    "| Lituli\n",
    "| Nzul\n",
    "| Nyangao Water Supply\n",
    "| Gwata water supply\n",
    "| Vumamti\n",
    "| ENDAMASAK\n",
    "| Vyama vya watumia maji\n",
    "| Ilala water supply\n",
    "| Msitu wa tembo pipe scheme\n",
    "| Dihimba water supply\n",
    "| Manyoni water supply\n",
    "| Tangini\n",
    "| Jumuhiya ya watumia maji"
   ]
  }
 ],
 "metadata": {
  "kernelspec": {
   "display_name": "Python 3",
   "language": "python",
   "name": "python3"
  },
  "language_info": {
   "codemirror_mode": {
    "name": "ipython",
    "version": 3
   },
   "file_extension": ".py",
   "mimetype": "text/x-python",
   "name": "python",
   "nbconvert_exporter": "python",
   "pygments_lexer": "ipython3",
   "version": "3.8.2"
  }
 },
 "nbformat": 4,
 "nbformat_minor": 4
}
